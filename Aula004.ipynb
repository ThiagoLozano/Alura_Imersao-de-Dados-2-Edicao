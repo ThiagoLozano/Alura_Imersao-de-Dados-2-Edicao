{
  "nbformat": 4,
  "nbformat_minor": 0,
  "metadata": {
    "colab": {
      "name": "Aula004.ipynb",
      "provenance": [],
      "collapsed_sections": [],
      "authorship_tag": "ABX9TyN/NcMKqyaxB+pu/QPfgYeW",
      "include_colab_link": true
    },
    "kernelspec": {
      "name": "python3",
      "display_name": "Python 3"
    }
  },
  "cells": [
    {
      "cell_type": "markdown",
      "metadata": {
        "id": "view-in-github",
        "colab_type": "text"
      },
      "source": [
        "<a href=\"https://colab.research.google.com/github/ThiagoLozano/Alura_Imersao-de-Dados-2-Edicao/blob/main/Aula004.ipynb\" target=\"_parent\"><img src=\"https://colab.research.google.com/assets/colab-badge.svg\" alt=\"Open In Colab\"/></a>"
      ]
    },
    {
      "cell_type": "code",
      "metadata": {
        "id": "mId5I0xgBl90"
      },
      "source": [
        "# Importa a Biblioteca Pandas.\n",
        "import pandas as pd\n",
        "import matplotlib.pyplot as plt\n",
        "import seaborn as sns\n",
        "\n",
        "# Pega a fonte dos dados.\n",
        "fonte = \"https://github.com/alura-cursos/imersao-dados-2-2020/blob/master/MICRODADOS_ENEM_2019_SAMPLE_43278.csv?raw=true\"\n",
        "\n",
        "# Cria o objeto 'dados'.\n",
        "dados = pd.read_csv(fonte)"
      ],
      "execution_count": 1,
      "outputs": []
    },
    {
      "cell_type": "code",
      "metadata": {
        "id": "X7YbjgCBDjkx"
      },
      "source": [
        "# Cria uma lista com todas as Provas.\n",
        "provas = [\"NU_NOTA_CN\", \"NU_NOTA_CH\", \"NU_NOTA_MT\", \"NU_NOTA_LC\", \"NU_NOTA_REDACAO\"]\n",
        "\n",
        "# Cria uma coluna para Nota Total das Provas.\n",
        "dados['NU_NOTA_TOTAL'] = dados[provas].sum(axis=1)\n",
        "\n",
        "# Retorna alunos que não tem o total de notas igual a 0.\n",
        "dados_sem_nota_zero = dados.query('NU_NOTA_TOTAL != 0')"
      ],
      "execution_count": 2,
      "outputs": []
    },
    {
      "cell_type": "code",
      "metadata": {
        "id": "OQCnXO-iDkhp"
      },
      "source": [
        "# Caracteristiscas.\n",
        "provas_entrada = [\"NU_NOTA_CN\", \"NU_NOTA_CH\", \"NU_NOTA_LC\", \"NU_NOTA_REDACAO\"]\n",
        "prova_saida = [\"NU_NOTA_MT\"]\n",
        "\n",
        "# Tira as notas NaN.\n",
        "dados_sem_nota_zero = dados_sem_nota_zero[provas].dropna()\n",
        "\n",
        "# DataFrames (f(x) = y)\n",
        "# x : Notas de Entrada.\n",
        "# y: Notas de Saída.\n",
        "notas_entrada = dados_sem_nota_zero[provas_entrada]\n",
        "notas_saida = dados_sem_nota_zero[prova_saida]"
      ],
      "execution_count": 16,
      "outputs": []
    },
    {
      "cell_type": "code",
      "metadata": {
        "id": "SPl8BYwLG_Hj"
      },
      "source": [
        "# f(x) = y\n",
        "# x : Notas de Entrada.\n",
        "# y: Notas de Saída.\n",
        "x = notas_entrada\n",
        "y = notas_saida"
      ],
      "execution_count": 17,
      "outputs": []
    },
    {
      "cell_type": "code",
      "metadata": {
        "id": "OXJfYSxiHI5I"
      },
      "source": [
        "# Importa o método train_test_split da bilioteca Sklearn.\n",
        "from sklearn.model_selection import train_test_split\n",
        "\n",
        "# Recebe a nota de entrada e saída para Teste e Treino.\n",
        "seed = 4321\n",
        "x_treino, x_teste, y_treino, y_teste = train_test_split(x, y, test_size = 0.25, random_state = seed)"
      ],
      "execution_count": 18,
      "outputs": []
    },
    {
      "cell_type": "code",
      "metadata": {
        "id": "7uY_2Ib6KMvv",
        "outputId": "c64102be-3398-43e4-b7c8-c8663f0872e6",
        "colab": {
          "base_uri": "https://localhost:8080/",
          "height": 156
        }
      },
      "source": [
        "# Modelo de Regressão\n",
        "from sklearn.svm import LinearSVR\n",
        "\n",
        "modelo = LinearSVR(random_state = seed)\n",
        "modelo.fit(x_treino, y_treino)"
      ],
      "execution_count": 19,
      "outputs": [
        {
          "output_type": "stream",
          "text": [
            "/usr/local/lib/python3.6/dist-packages/sklearn/utils/validation.py:760: DataConversionWarning: A column-vector y was passed when a 1d array was expected. Please change the shape of y to (n_samples, ), for example using ravel().\n",
            "  y = column_or_1d(y, warn=True)\n",
            "/usr/local/lib/python3.6/dist-packages/sklearn/svm/_base.py:947: ConvergenceWarning: Liblinear failed to converge, increase the number of iterations.\n",
            "  \"the number of iterations.\", ConvergenceWarning)\n"
          ],
          "name": "stderr"
        },
        {
          "output_type": "execute_result",
          "data": {
            "text/plain": [
              "LinearSVR(C=1.0, dual=True, epsilon=0.0, fit_intercept=True,\n",
              "          intercept_scaling=1.0, loss='epsilon_insensitive', max_iter=1000,\n",
              "          random_state=4321, tol=0.0001, verbose=0)"
            ]
          },
          "metadata": {
            "tags": []
          },
          "execution_count": 19
        }
      ]
    },
    {
      "cell_type": "code",
      "metadata": {
        "id": "enKNI559NZtd",
        "outputId": "1f712cfa-9954-4725-d5a8-72a4fbf95846",
        "colab": {
          "base_uri": "https://localhost:8080/",
          "height": 153
        }
      },
      "source": [
        "# Predição do teste.\n",
        "# Dados as 4 notas, ele tenta prever a 5 nota (de matemática).\n",
        "print(modelo.predict(x_teste))\n",
        "\n",
        "# Compara com o valor real das notas de matemática.\n",
        "print(y_teste[:5])"
      ],
      "execution_count": 24,
      "outputs": [
        {
          "output_type": "stream",
          "text": [
            "[564.48610537 628.305027   509.98098555 ... 607.78717234 734.22766309\n",
            " 466.91968988]\n",
            "        NU_NOTA_MT\n",
            "114991       459.7\n",
            "104685       617.2\n",
            "91028        520.0\n",
            "115802       703.8\n",
            "93303        627.1\n"
          ],
          "name": "stdout"
        }
      ]
    },
    {
      "cell_type": "code",
      "metadata": {
        "id": "3mC9KMppN5pb",
        "outputId": "95ebdfb2-cc52-45ec-852e-f483958fb4d3",
        "colab": {
          "base_uri": "https://localhost:8080/",
          "height": 51
        }
      },
      "source": [
        "predicao_matematica = modelo.predict(x_teste)\n",
        "\n",
        "plt.figure(figsize=(10,6))\n",
        "# sns.scatterplot(x = predicao_matematica, y = y_teste)"
      ],
      "execution_count": 29,
      "outputs": [
        {
          "output_type": "execute_result",
          "data": {
            "text/plain": [
              "<Figure size 720x432 with 0 Axes>"
            ]
          },
          "metadata": {
            "tags": []
          },
          "execution_count": 29
        },
        {
          "output_type": "display_data",
          "data": {
            "text/plain": [
              "<Figure size 720x432 with 0 Axes>"
            ]
          },
          "metadata": {
            "tags": []
          }
        }
      ]
    }
  ]
}