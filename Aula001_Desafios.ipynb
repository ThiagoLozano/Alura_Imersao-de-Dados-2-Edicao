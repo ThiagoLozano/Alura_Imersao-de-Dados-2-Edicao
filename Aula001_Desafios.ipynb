{
  "nbformat": 4,
  "nbformat_minor": 0,
  "metadata": {
    "colab": {
      "name": "Aula001_Desafios.ipynb",
      "provenance": [],
      "collapsed_sections": [],
      "authorship_tag": "ABX9TyNhm5jc26Z2XrUNWEJtmy1h",
      "include_colab_link": true
    },
    "kernelspec": {
      "name": "python3",
      "display_name": "Python 3"
    }
  },
  "cells": [
    {
      "cell_type": "markdown",
      "metadata": {
        "id": "view-in-github",
        "colab_type": "text"
      },
      "source": [
        "<a href=\"https://colab.research.google.com/github/ThiagoLozano/Alura_Imersao-de-Dados-2-Edicao/blob/main/Aula001_Desafios.ipynb\" target=\"_parent\"><img src=\"https://colab.research.google.com/assets/colab-badge.svg\" alt=\"Open In Colab\"/></a>"
      ]
    },
    {
      "cell_type": "code",
      "metadata": {
        "id": "vSfAsP-YAAJB"
      },
      "source": [
        "# Import a Biblioteca Pandas e Matplotlib.\n",
        "import pandas as pd\n",
        "import matplotlib.pyplot as plt\n",
        "\n",
        "# Pega a fonte dos dados.\n",
        "fonte = \"https://github.com/alura-cursos/imersao-dados-2-2020/blob/master/MICRODADOS_ENEM_2019_SAMPLE_43278.csv?raw=true\"\n",
        "\n",
        "# Cria o objeto 'dados'.\n",
        "dados = pd.read_csv(fonte)"
      ],
      "execution_count": 11,
      "outputs": []
    },
    {
      "cell_type": "code",
      "metadata": {
        "id": "0Ll9djgKBiju",
        "outputId": "7e53de20-31f3-4513-ed15-e1d62a04b076",
        "colab": {
          "base_uri": "https://localhost:8080/",
          "height": 54
        }
      },
      "source": [
        "# Retorna o nome de todas as colunas.\n",
        "for c in dados.columns:\n",
        "  print(c, end=' | ')"
      ],
      "execution_count": 3,
      "outputs": [
        {
          "output_type": "stream",
          "text": [
            "NU_INSCRICAO | NU_ANO | CO_MUNICIPIO_RESIDENCIA | NO_MUNICIPIO_RESIDENCIA | CO_UF_RESIDENCIA | SG_UF_RESIDENCIA | NU_IDADE | TP_SEXO | TP_ESTADO_CIVIL | TP_COR_RACA | TP_NACIONALIDADE | CO_MUNICIPIO_NASCIMENTO | NO_MUNICIPIO_NASCIMENTO | CO_UF_NASCIMENTO | SG_UF_NASCIMENTO | TP_ST_CONCLUSAO | TP_ANO_CONCLUIU | TP_ESCOLA | TP_ENSINO | IN_TREINEIRO | CO_ESCOLA | CO_MUNICIPIO_ESC | NO_MUNICIPIO_ESC | CO_UF_ESC | SG_UF_ESC | TP_DEPENDENCIA_ADM_ESC | TP_LOCALIZACAO_ESC | TP_SIT_FUNC_ESC | IN_BAIXA_VISAO | IN_CEGUEIRA | IN_SURDEZ | IN_DEFICIENCIA_AUDITIVA | IN_SURDO_CEGUEIRA | IN_DEFICIENCIA_FISICA | IN_DEFICIENCIA_MENTAL | IN_DEFICIT_ATENCAO | IN_DISLEXIA | IN_DISCALCULIA | IN_AUTISMO | IN_VISAO_MONOCULAR | IN_OUTRA_DEF | IN_GESTANTE | IN_LACTANTE | IN_IDOSO | IN_ESTUDA_CLASSE_HOSPITALAR | IN_SEM_RECURSO | IN_BRAILLE | IN_AMPLIADA_24 | IN_AMPLIADA_18 | IN_LEDOR | IN_ACESSO | IN_TRANSCRICAO | IN_LIBRAS | IN_TEMPO_ADICIONAL | IN_LEITURA_LABIAL | IN_MESA_CADEIRA_RODAS | IN_MESA_CADEIRA_SEPARADA | IN_APOIO_PERNA | IN_GUIA_INTERPRETE | IN_COMPUTADOR | IN_CADEIRA_ESPECIAL | IN_CADEIRA_CANHOTO | IN_CADEIRA_ACOLCHOADA | IN_PROVA_DEITADO | IN_MOBILIARIO_OBESO | IN_LAMINA_OVERLAY | IN_PROTETOR_AURICULAR | IN_MEDIDOR_GLICOSE | IN_MAQUINA_BRAILE | IN_SOROBAN | IN_MARCA_PASSO | IN_SONDA | IN_MEDICAMENTOS | IN_SALA_INDIVIDUAL | IN_SALA_ESPECIAL | IN_SALA_ACOMPANHANTE | IN_MOBILIARIO_ESPECIFICO | IN_MATERIAL_ESPECIFICO | IN_NOME_SOCIAL | CO_MUNICIPIO_PROVA | NO_MUNICIPIO_PROVA | CO_UF_PROVA | SG_UF_PROVA | TP_PRESENCA_CN | TP_PRESENCA_CH | TP_PRESENCA_LC | TP_PRESENCA_MT | CO_PROVA_CN | CO_PROVA_CH | CO_PROVA_LC | CO_PROVA_MT | NU_NOTA_CN | NU_NOTA_CH | NU_NOTA_LC | NU_NOTA_MT | TX_RESPOSTAS_CN | TX_RESPOSTAS_CH | TX_RESPOSTAS_LC | TX_RESPOSTAS_MT | TP_LINGUA | TX_GABARITO_CN | TX_GABARITO_CH | TX_GABARITO_LC | TX_GABARITO_MT | TP_STATUS_REDACAO | NU_NOTA_COMP1 | NU_NOTA_COMP2 | NU_NOTA_COMP3 | NU_NOTA_COMP4 | NU_NOTA_COMP5 | NU_NOTA_REDACAO | Q001 | Q002 | Q003 | Q004 | Q005 | Q006 | Q007 | Q008 | Q009 | Q010 | Q011 | Q012 | Q013 | Q014 | Q015 | Q016 | Q017 | Q018 | Q019 | Q020 | Q021 | Q022 | Q023 | Q024 | Q025 | "
          ],
          "name": "stdout"
        }
      ]
    },
    {
      "cell_type": "code",
      "metadata": {
        "id": "p4xJk5-xC5Cm",
        "outputId": "04530597-9052-43b9-853a-2542f43f9920",
        "colab": {
          "base_uri": "https://localhost:8080/",
          "height": 221
        }
      },
      "source": [
        "# DESAFIO 01 #\n",
        "\n",
        "# Retorna a coluna de idades representado por sua porcentagem.\n",
        "soma = sum(dados['NU_IDADE'])\n",
        "porcentagem = (dados['NU_IDADE'] * 100)/soma\n",
        "porcentagem"
      ],
      "execution_count": 4,
      "outputs": [
        {
          "output_type": "execute_result",
          "data": {
            "text/plain": [
              "0         0.000604\n",
              "1         0.000817\n",
              "2         0.001244\n",
              "3         0.000817\n",
              "4         0.000569\n",
              "            ...   \n",
              "127375    0.000604\n",
              "127376    0.000640\n",
              "127377    0.000782\n",
              "127378    0.000924\n",
              "127379    0.000675\n",
              "Name: NU_IDADE, Length: 127380, dtype: float64"
            ]
          },
          "metadata": {
            "tags": []
          },
          "execution_count": 4
        }
      ]
    },
    {
      "cell_type": "code",
      "metadata": {
        "id": "UOQs6w_8HCh8",
        "outputId": "c3b66e12-fc46-4b84-88fe-0e73f9000657",
        "colab": {
          "base_uri": "https://localhost:8080/",
          "height": 173
        }
      },
      "source": [
        "# DEAFIO 2 #\n",
        "\n",
        "# Retorna a 'Idade' a 'Sigla do Estado' e 'Qual Cidade' tem registro de candidados com 13 anos.\n",
        "dados.query(\"NU_IDADE == 13\")[['NU_IDADE', 'SG_UF_RESIDENCIA', 'NO_MUNICIPIO_RESIDENCIA']]"
      ],
      "execution_count": 5,
      "outputs": [
        {
          "output_type": "execute_result",
          "data": {
            "text/html": [
              "<div>\n",
              "<style scoped>\n",
              "    .dataframe tbody tr th:only-of-type {\n",
              "        vertical-align: middle;\n",
              "    }\n",
              "\n",
              "    .dataframe tbody tr th {\n",
              "        vertical-align: top;\n",
              "    }\n",
              "\n",
              "    .dataframe thead th {\n",
              "        text-align: right;\n",
              "    }\n",
              "</style>\n",
              "<table border=\"1\" class=\"dataframe\">\n",
              "  <thead>\n",
              "    <tr style=\"text-align: right;\">\n",
              "      <th></th>\n",
              "      <th>NU_IDADE</th>\n",
              "      <th>SG_UF_RESIDENCIA</th>\n",
              "      <th>NO_MUNICIPIO_RESIDENCIA</th>\n",
              "    </tr>\n",
              "  </thead>\n",
              "  <tbody>\n",
              "    <tr>\n",
              "      <th>57359</th>\n",
              "      <td>13</td>\n",
              "      <td>SP</td>\n",
              "      <td>Atibaia</td>\n",
              "    </tr>\n",
              "    <tr>\n",
              "      <th>95630</th>\n",
              "      <td>13</td>\n",
              "      <td>MT</td>\n",
              "      <td>Rondonópolis</td>\n",
              "    </tr>\n",
              "    <tr>\n",
              "      <th>98197</th>\n",
              "      <td>13</td>\n",
              "      <td>AP</td>\n",
              "      <td>Macapá</td>\n",
              "    </tr>\n",
              "    <tr>\n",
              "      <th>116501</th>\n",
              "      <td>13</td>\n",
              "      <td>BA</td>\n",
              "      <td>Jacobina</td>\n",
              "    </tr>\n",
              "  </tbody>\n",
              "</table>\n",
              "</div>"
            ],
            "text/plain": [
              "        NU_IDADE SG_UF_RESIDENCIA NO_MUNICIPIO_RESIDENCIA\n",
              "57359         13               SP                 Atibaia\n",
              "95630         13               MT            Rondonópolis\n",
              "98197         13               AP                  Macapá\n",
              "116501        13               BA                Jacobina"
            ]
          },
          "metadata": {
            "tags": []
          },
          "execution_count": 5
        }
      ]
    },
    {
      "cell_type": "code",
      "metadata": {
        "id": "w15Syz52IatD",
        "outputId": "65fc6cf8-ce97-4e6d-bfb3-97df98d9dc04",
        "colab": {
          "base_uri": "https://localhost:8080/",
          "height": 404
        }
      },
      "source": [
        "# DESAFIO 3 #\n",
        "\n",
        "d = dados['NU_IDADE']                         # Atribui os dados da coluna no objeto 'd'.\n",
        "plt.figure(figsize=(10,6))                    # Tamanho da imagem.\n",
        "plt.hist(d, bins=(20), color='#2DB200')       # Dados, Quantidade de Espaços e Cor das Barras.\n",
        "plt.title('Proporção de alunos por Idade')    # Título do Gráfico.\n",
        "plt.xlabel('Idade')                           # Título da coordenada X.\n",
        "plt.ylabel('Proporção')                       # Título da coodenada Y.\n",
        "plt.show()                                    # Mostra o Gráfico.\n",
        "plt.close()                                   # Fecha a ação."
      ],
      "execution_count": 84,
      "outputs": [
        {
          "output_type": "display_data",
          "data": {
            "image/png": "[encoded data removed]",
            "text/plain": [
              "<Figure size 720x432 with 1 Axes>"
            ]
          },
          "metadata": {
            "tags": [],
            "needs_background": "light"
          }
        }
      ]
    },
    {
      "cell_type": "code",
      "metadata": {
        "id": "rRw08DfsNB6y",
        "outputId": "bde0153c-2576-4a62-a38c-c63e207f2ca8",
        "colab": {
          "base_uri": "https://localhost:8080/",
          "height": 500
        }
      },
      "source": [
        "# DESAFIO 4 #\n",
        "\n",
        "dados.query('IN_TREINEIRO == 0')['NU_IDADE'].plot.hist(bins = 20,figsize = (1,8), grid = True, color = '#87CEEB')\n",
        "dados.query('IN_TREINEIRO == 1')['NU_IDADE'].plot.hist(bins = 20,figsize = (10,8), grid = True, color = '#00FF7F')"
      ],
      "execution_count": 92,
      "outputs": [
        {
          "output_type": "execute_result",
          "data": {
            "text/plain": [
              "<matplotlib.axes._subplots.AxesSubplot at 0x7f1c8543b358>"
            ]
          },
          "metadata": {
            "tags": []
          },
          "execution_count": 92
        },
        {
          "output_type": "display_data",
          "data": {
            "image/png": "[encoded data removed]",
            "text/plain": [
              "<Figure size 720x576 with 1 Axes>"
            ]
          },
          "metadata": {
            "tags": [],
            "needs_background": "light"
          }
        }
      ]
    },
    {
      "cell_type": "markdown",
      "metadata": {
        "id": "7JvGeHpSAT3Z"
      },
      "source": [
        "***Desafios***\n",
        "\n",
        "**Desafio 01:** Proporção dos inscritos por idade.\n",
        "\n",
        "**Desafio 02:** Descobrir de quais estados são os inscritos de 13 anos.\n",
        "\n",
        "**Desafio 03:** Adicionar título no gráfico.\n",
        "\n",
        "**Desafio 04:** Plotar os Histogramas das idades dos treineiros e não treineiros.\n",
        "\n",
        "**Desafio 05:** Comparar as distribuições das provas em Inglês e Espanhol."
      ]
    },
    {
      "cell_type": "markdown",
      "metadata": {
        "id": "XlotdQ6qAUrK"
      },
      "source": [
        ""
      ]
    }
  ]
}