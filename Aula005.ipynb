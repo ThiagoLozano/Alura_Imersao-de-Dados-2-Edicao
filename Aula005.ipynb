{
  "nbformat": 4,
  "nbformat_minor": 0,
  "metadata": {
    "colab": {
      "name": "Aula005.ipynb",
      "provenance": [],
      "collapsed_sections": [],
      "authorship_tag": "ABX9TyMFxZbbDkjzPTHRSoKT66Q+",
      "include_colab_link": true
    },
    "kernelspec": {
      "name": "python3",
      "display_name": "Python 3"
    }
  },
  "cells": [
    {
      "cell_type": "markdown",
      "metadata": {
        "id": "view-in-github",
        "colab_type": "text"
      },
      "source": [
        "<a href=\"https://colab.research.google.com/github/ThiagoLozano/Alura_Imersao-de-Dados-2-Edicao/blob/main/Aula005.ipynb\" target=\"_parent\"><img src=\"https://colab.research.google.com/assets/colab-badge.svg\" alt=\"Open In Colab\"/></a>"
      ]
    },
    {
      "cell_type": "code",
      "metadata": {
        "id": "EVsj5pd-wTwN"
      },
      "source": [
        "# Importa a Biblioteca Pandas.\n",
        "import pandas as pd\n",
        "import matplotlib.pyplot as plt\n",
        "import seaborn as sns\n",
        "\n",
        "# Pega a fonte dos dados.\n",
        "fonte = \"https://github.com/alura-cursos/imersao-dados-2-2020/blob/master/MICRODADOS_ENEM_2019_SAMPLE_43278.csv?raw=true\"\n",
        "\n",
        "# Cria o objeto 'dados'.\n",
        "dados = pd.read_csv(fonte)"
      ],
      "execution_count": 2,
      "outputs": []
    },
    {
      "cell_type": "code",
      "metadata": {
        "id": "5cc-WwLMwobb"
      },
      "source": [
        "# Cria uma lista com todas as Provas.\n",
        "provas = [\"NU_NOTA_CN\", \"NU_NOTA_CH\", \"NU_NOTA_MT\", \"NU_NOTA_LC\", \"NU_NOTA_REDACAO\"]\n",
        "\n",
        "# Cria uma coluna para Nota Total das Provas.\n",
        "dados['NU_NOTA_TOTAL'] = dados[provas].sum(axis=1)\n",
        "\n",
        "# Retorna alunos que não tem o total de notas igual a 0.\n",
        "dados_sem_nota_zero = dados.query('NU_NOTA_TOTAL != 0')"
      ],
      "execution_count": 3,
      "outputs": []
    },
    {
      "cell_type": "code",
      "metadata": {
        "id": "DBH8VI-dx3WZ"
      },
      "source": [
        "# Caracteristiscas.\n",
        "provas_entrada = [\"NU_NOTA_CN\", \"NU_NOTA_CH\", \"NU_NOTA_LC\", \"NU_NOTA_REDACAO\"]\n",
        "prova_saida = \"NU_NOTA_MT\"\n",
        "\n",
        "# Tira as notas NaN.\n",
        "dados_sem_nota_zero = dados_sem_nota_zero[provas].dropna()\n",
        "\n",
        "# DataFrames (f(x) = y)\n",
        "# x : Notas de Entrada.\n",
        "# y: Notas de Saída.\n",
        "notas_entrada = dados_sem_nota_zero[provas_entrada]\n",
        "notas_saida = dados_sem_nota_zero[prova_saida]"
      ],
      "execution_count": 4,
      "outputs": []
    },
    {
      "cell_type": "code",
      "metadata": {
        "id": "Lck85Qnox5yy"
      },
      "source": [
        "# f(x) = y\n",
        "# x : Notas de Entrada.\n",
        "# y: Notas de Saída.\n",
        "x = notas_entrada\n",
        "y = notas_saida"
      ],
      "execution_count": 5,
      "outputs": []
    },
    {
      "cell_type": "code",
      "metadata": {
        "id": "Di_S9j9px8dx"
      },
      "source": [
        "# Importa o método train_test_split da bilioteca Sklearn.\n",
        "from sklearn.model_selection import train_test_split\n",
        "\n",
        "# Recebe a nota de entrada e saída para Teste e Treino.\n",
        "seed = 4321\n",
        "x_treino, x_teste, y_treino, y_teste = train_test_split(x, y, test_size = 0.25, random_state = seed)"
      ],
      "execution_count": 6,
      "outputs": []
    },
    {
      "cell_type": "code",
      "metadata": {
        "id": "CpNU1Cmax-v1",
        "outputId": "2d2d70c4-66a0-4cd5-d06f-ea05a73c1873",
        "colab": {
          "base_uri": "https://localhost:8080/",
          "height": 102
        }
      },
      "source": [
        "# Modelo de Regressão\n",
        "from sklearn.svm import LinearSVR\n",
        "\n",
        "modelo = LinearSVR(random_state = seed)\n",
        "modelo.fit(x_treino, y_treino)"
      ],
      "execution_count": 7,
      "outputs": [
        {
          "output_type": "stream",
          "text": [
            "/usr/local/lib/python3.6/dist-packages/sklearn/svm/_base.py:947: ConvergenceWarning: Liblinear failed to converge, increase the number of iterations.\n",
            "  \"the number of iterations.\", ConvergenceWarning)\n"
          ],
          "name": "stderr"
        },
        {
          "output_type": "execute_result",
          "data": {
            "text/plain": [
              "LinearSVR(C=1.0, dual=True, epsilon=0.0, fit_intercept=True,\n",
              "          intercept_scaling=1.0, loss='epsilon_insensitive', max_iter=1000,\n",
              "          random_state=4321, tol=0.0001, verbose=0)"
            ]
          },
          "metadata": {
            "tags": []
          },
          "execution_count": 7
        }
      ]
    },
    {
      "cell_type": "code",
      "metadata": {
        "id": "JkjoH1WkyCbL",
        "outputId": "07d0eb36-346e-4649-f1fd-66a5a83f70ae",
        "colab": {
          "base_uri": "https://localhost:8080/",
          "height": 153
        }
      },
      "source": [
        "# Predição do teste.\n",
        "# Dados as 4 notas, ele tenta prever a 5 nota (de matemática).\n",
        "print(modelo.predict(x_teste))\n",
        "\n",
        "# Compara com o valor real das notas de matemática.\n",
        "print(y_teste[:5])"
      ],
      "execution_count": 8,
      "outputs": [
        {
          "output_type": "stream",
          "text": [
            "[564.48610537 628.305027   509.98098555 ... 607.78717234 734.22766309\n",
            " 466.91968988]\n",
            "114991    459.7\n",
            "104685    617.2\n",
            "91028     520.0\n",
            "115802    703.8\n",
            "93303     627.1\n",
            "Name: NU_NOTA_MT, dtype: float64\n"
          ],
          "name": "stdout"
        }
      ]
    },
    {
      "cell_type": "code",
      "metadata": {
        "id": "hzqQFtL6yE3g",
        "outputId": "d429cae2-f489-459e-ec6a-bff3aee06a63",
        "colab": {
          "base_uri": "https://localhost:8080/",
          "height": 500
        }
      },
      "source": [
        "predicao_matematica = modelo.predict(x_teste)\n",
        "\n",
        "# Retorna um gráfico de Disperção.\n",
        "# y = Valores que foram previdos, x = Valores Reais.\n",
        "plt.figure(figsize=(8, 8))\n",
        "sns.scatterplot(x=predicao_matematica, y=y_teste)\n",
        "plt.xlim((-50, 1050))\n",
        "plt.ylim((-50, 1050))"
      ],
      "execution_count": 9,
      "outputs": [
        {
          "output_type": "execute_result",
          "data": {
            "text/plain": [
              "(-50.0, 1050.0)"
            ]
          },
          "metadata": {
            "tags": []
          },
          "execution_count": 9
        },
        {
          "output_type": "display_data",
          "data": {
            "image/png": "[encoded data removed]",
            "text/plain": [
              "<Figure size 576x576 with 1 Axes>"
            ]
          },
          "metadata": {
            "tags": [],
            "needs_background": "light"
          }
        }
      ]
    },
    {
      "cell_type": "code",
      "metadata": {
        "id": "7M3oWIIWyHiv",
        "outputId": "04122bc8-db53-48ef-9472-454d6980d3cf",
        "colab": {
          "base_uri": "https://localhost:8080/",
          "height": 419
        }
      },
      "source": [
        "# Cria um DataFrame para os dados coletados.\n",
        "resultados = pd.DataFrame()\n",
        "resultados['Real'] = y_teste\n",
        "resultados['Previsao'] = predicao_matematica\n",
        "resultados['Diferenca'] = resultados['Real'] - resultados['Previsao']\n",
        "resultados['Quadrado_Diferenca'] = (resultados['Real'] - resultados['Previsao'])**2\n",
        "\n",
        "resultados"
      ],
      "execution_count": 10,
      "outputs": [
        {
          "output_type": "execute_result",
          "data": {
            "text/html": [
              "<div>\n",
              "<style scoped>\n",
              "    .dataframe tbody tr th:only-of-type {\n",
              "        vertical-align: middle;\n",
              "    }\n",
              "\n",
              "    .dataframe tbody tr th {\n",
              "        vertical-align: top;\n",
              "    }\n",
              "\n",
              "    .dataframe thead th {\n",
              "        text-align: right;\n",
              "    }\n",
              "</style>\n",
              "<table border=\"1\" class=\"dataframe\">\n",
              "  <thead>\n",
              "    <tr style=\"text-align: right;\">\n",
              "      <th></th>\n",
              "      <th>Real</th>\n",
              "      <th>Previsao</th>\n",
              "      <th>Diferenca</th>\n",
              "      <th>Quadrado_Diferenca</th>\n",
              "    </tr>\n",
              "  </thead>\n",
              "  <tbody>\n",
              "    <tr>\n",
              "      <th>114991</th>\n",
              "      <td>459.7</td>\n",
              "      <td>564.486105</td>\n",
              "      <td>-104.786105</td>\n",
              "      <td>10980.127878</td>\n",
              "    </tr>\n",
              "    <tr>\n",
              "      <th>104685</th>\n",
              "      <td>617.2</td>\n",
              "      <td>628.305027</td>\n",
              "      <td>-11.105027</td>\n",
              "      <td>123.321625</td>\n",
              "    </tr>\n",
              "    <tr>\n",
              "      <th>91028</th>\n",
              "      <td>520.0</td>\n",
              "      <td>509.980986</td>\n",
              "      <td>10.019014</td>\n",
              "      <td>100.380650</td>\n",
              "    </tr>\n",
              "    <tr>\n",
              "      <th>115802</th>\n",
              "      <td>703.8</td>\n",
              "      <td>593.681144</td>\n",
              "      <td>110.118856</td>\n",
              "      <td>12126.162420</td>\n",
              "    </tr>\n",
              "    <tr>\n",
              "      <th>93303</th>\n",
              "      <td>627.1</td>\n",
              "      <td>579.784588</td>\n",
              "      <td>47.315412</td>\n",
              "      <td>2238.748252</td>\n",
              "    </tr>\n",
              "    <tr>\n",
              "      <th>...</th>\n",
              "      <td>...</td>\n",
              "      <td>...</td>\n",
              "      <td>...</td>\n",
              "      <td>...</td>\n",
              "    </tr>\n",
              "    <tr>\n",
              "      <th>81393</th>\n",
              "      <td>688.6</td>\n",
              "      <td>626.291851</td>\n",
              "      <td>62.308149</td>\n",
              "      <td>3882.305380</td>\n",
              "    </tr>\n",
              "    <tr>\n",
              "      <th>40159</th>\n",
              "      <td>479.1</td>\n",
              "      <td>652.313922</td>\n",
              "      <td>-173.213922</td>\n",
              "      <td>30003.062777</td>\n",
              "    </tr>\n",
              "    <tr>\n",
              "      <th>64083</th>\n",
              "      <td>501.4</td>\n",
              "      <td>607.787172</td>\n",
              "      <td>-106.387172</td>\n",
              "      <td>11318.230438</td>\n",
              "    </tr>\n",
              "    <tr>\n",
              "      <th>84661</th>\n",
              "      <td>772.5</td>\n",
              "      <td>734.227663</td>\n",
              "      <td>38.272337</td>\n",
              "      <td>1464.771772</td>\n",
              "    </tr>\n",
              "    <tr>\n",
              "      <th>79106</th>\n",
              "      <td>369.0</td>\n",
              "      <td>466.919690</td>\n",
              "      <td>-97.919690</td>\n",
              "      <td>9588.265665</td>\n",
              "    </tr>\n",
              "  </tbody>\n",
              "</table>\n",
              "<p>23135 rows × 4 columns</p>\n",
              "</div>"
            ],
            "text/plain": [
              "         Real    Previsao   Diferenca  Quadrado_Diferenca\n",
              "114991  459.7  564.486105 -104.786105        10980.127878\n",
              "104685  617.2  628.305027  -11.105027          123.321625\n",
              "91028   520.0  509.980986   10.019014          100.380650\n",
              "115802  703.8  593.681144  110.118856        12126.162420\n",
              "93303   627.1  579.784588   47.315412         2238.748252\n",
              "...       ...         ...         ...                 ...\n",
              "81393   688.6  626.291851   62.308149         3882.305380\n",
              "40159   479.1  652.313922 -173.213922        30003.062777\n",
              "64083   501.4  607.787172 -106.387172        11318.230438\n",
              "84661   772.5  734.227663   38.272337         1464.771772\n",
              "79106   369.0  466.919690  -97.919690         9588.265665\n",
              "\n",
              "[23135 rows x 4 columns]"
            ]
          },
          "metadata": {
            "tags": []
          },
          "execution_count": 10
        }
      ]
    },
    {
      "cell_type": "code",
      "metadata": {
        "id": "ovpsox7tyIHc",
        "outputId": "792f4d4c-b5df-4be3-90b9-54772a37ec35",
        "colab": {
          "base_uri": "https://localhost:8080/",
          "height": 34
        }
      },
      "source": [
        "# Média da Quadrado da diferença.\n",
        "resultados['Quadrado_Diferenca'].mean()"
      ],
      "execution_count": 11,
      "outputs": [
        {
          "output_type": "execute_result",
          "data": {
            "text/plain": [
              "6604.415306219525"
            ]
          },
          "metadata": {
            "tags": []
          },
          "execution_count": 11
        }
      ]
    },
    {
      "cell_type": "code",
      "metadata": {
        "id": "WkMX6CZGyLUF",
        "outputId": "f72b2bda-44e8-4f24-87d3-81ee2ea3341d",
        "colab": {
          "base_uri": "https://localhost:8080/",
          "height": 34
        }
      },
      "source": [
        "# Pontos de erros pra cima ou pra baixo.\n",
        "resultados['Quadrado_Diferenca'].mean()**(1/2)"
      ],
      "execution_count": 12,
      "outputs": [
        {
          "output_type": "execute_result",
          "data": {
            "text/plain": [
              "81.26755383435338"
            ]
          },
          "metadata": {
            "tags": []
          },
          "execution_count": 12
        }
      ]
    },
    {
      "cell_type": "code",
      "metadata": {
        "id": "a4KE8b4VyN50"
      },
      "source": [
        "from sklearn.dummy import DummyRegressor\n",
        "\n",
        "modelo_dummy = DummyRegressor()\n",
        "modelo_dummy.fit(x_treino, y_treino)\n",
        "dummy_predicoes = modelo_dummy.predict(x_teste)"
      ],
      "execution_count": 13,
      "outputs": []
    },
    {
      "cell_type": "code",
      "metadata": {
        "id": "wVpa5Fp3yRkO",
        "outputId": "7512a71e-0978-47a4-d6d7-1f263e7baee9",
        "colab": {
          "base_uri": "https://localhost:8080/",
          "height": 34
        }
      },
      "source": [
        "from sklearn.metrics import mean_squared_error\n",
        "\n",
        "mean_squared_error(y_teste, dummy_predicoes)"
      ],
      "execution_count": 14,
      "outputs": [
        {
          "output_type": "execute_result",
          "data": {
            "text/plain": [
              "12063.645588509502"
            ]
          },
          "metadata": {
            "tags": []
          },
          "execution_count": 14
        }
      ]
    },
    {
      "cell_type": "code",
      "metadata": {
        "id": "oDjrTfPyyTwF",
        "outputId": "c01e8d4b-d54a-4a9e-ae34-20781d3ff6ed",
        "colab": {
          "base_uri": "https://localhost:8080/",
          "height": 34
        }
      },
      "source": [
        "mean_squared_error(y_teste, predicao_matematica)"
      ],
      "execution_count": 15,
      "outputs": [
        {
          "output_type": "execute_result",
          "data": {
            "text/plain": [
              "6604.415306219566"
            ]
          },
          "metadata": {
            "tags": []
          },
          "execution_count": 15
        }
      ]
    },
    {
      "cell_type": "code",
      "metadata": {
        "id": "2xTezXtbyuYX",
        "outputId": "39b5d7eb-7113-4a85-d43e-b15be63a0bad",
        "colab": {
          "base_uri": "https://localhost:8080/",
          "height": 68
        }
      },
      "source": [
        "# Modelo de Regressão\n",
        "from sklearn.svm import LinearSVR\n",
        "\n",
        "modelo = LinearSVR(random_state = seed)\n",
        "modelo.fit(x_treino, y_treino)\n",
        "predicoes_matematica = modelo.predict(x_teste)\n",
        "mean_squared_error(y_teste, predicoes_matematica)"
      ],
      "execution_count": 17,
      "outputs": [
        {
          "output_type": "stream",
          "text": [
            "/usr/local/lib/python3.6/dist-packages/sklearn/svm/_base.py:947: ConvergenceWarning: Liblinear failed to converge, increase the number of iterations.\n",
            "  \"the number of iterations.\", ConvergenceWarning)\n"
          ],
          "name": "stderr"
        },
        {
          "output_type": "execute_result",
          "data": {
            "text/plain": [
              "6604.415306219566"
            ]
          },
          "metadata": {
            "tags": []
          },
          "execution_count": 17
        }
      ]
    },
    {
      "cell_type": "code",
      "metadata": {
        "id": "agNF7ISAzhbw",
        "outputId": "8733286e-a1cf-46ca-986e-1482839f152d",
        "colab": {
          "base_uri": "https://localhost:8080/",
          "height": 34
        }
      },
      "source": [
        "# Árvore de Decisões\n",
        "from sklearn.tree import DecisionTreeRegressor\n",
        "\n",
        "x_treino, x_teste, y_treino, y_teste = train_test_split(x, y, test_size=0.25)\n",
        "modelo_arvore = DecisionTreeRegressor(max_depth = 3)\n",
        "modelo_arvore.fit(x_treino, y_treino)\n",
        "predicoes_matematica_arvore = modelo_arvore.predict(x_teste)\n",
        "mean_squared_error(y_teste, predicoes_matematica_arvore)"
      ],
      "execution_count": 30,
      "outputs": [
        {
          "output_type": "execute_result",
          "data": {
            "text/plain": [
              "6058.967870162735"
            ]
          },
          "metadata": {
            "tags": []
          },
          "execution_count": 30
        }
      ]
    },
    {
      "cell_type": "code",
      "metadata": {
        "id": "iKGND8iy04G3"
      },
      "source": [
        "from sklearn.model_selection import cross_validate\n",
        "\n",
        "modelo_arvore = DecisionTreeRegressor(max_depth=2)\n",
        "resultados = cross_validate(modelo_arvore, x, y, cv= 10, scoring=\"neg_mean_squared_error\")\n",
        "media = (resultados[\"test_score\"]*-1).mean()"
      ],
      "execution_count": 31,
      "outputs": []
    },
    {
      "cell_type": "code",
      "metadata": {
        "id": "zfsBhrUs7R5M",
        "outputId": "f38f673b-f871-401d-d86a-8acfce6f9a30",
        "colab": {
          "base_uri": "https://localhost:8080/",
          "height": 34
        }
      },
      "source": [
        "from sklearn.model_selection import cross_validate\n",
        "\n",
        "modelo_arvore = DecisionTreeRegressor(max_depth=2)\n",
        "resultados = cross_validate(modelo_arvore, x, y, cv= 10, scoring=\"neg_mean_squared_error\")\n",
        "media = (resultados[\"test_score\"]*-1).mean()\n",
        "desvio_padrao = (resultados[\"test_score\"]*-1).std()\n",
        "lim_inferior = media - (2*desvio_padrao)\n",
        "lim_superior = media + (2*desvio_padrao)\n",
        "\n",
        "print(f\"Intervalo de confiança {lim_inferior} - {lim_superior}\")"
      ],
      "execution_count": 32,
      "outputs": [
        {
          "output_type": "stream",
          "text": [
            "Intervalo de confiança 6015.7225495368075 - 7100.732779780728\n"
          ],
          "name": "stdout"
        }
      ]
    },
    {
      "cell_type": "code",
      "metadata": {
        "id": "0Kti2MyL9Cl7"
      },
      "source": [
        "def calcula_mse(resultados):\n",
        "    media = (resultados[\"test_score\"]*-1).mean()\n",
        "    desvio_padrao = (resultados[\"test_score\"]*-1).std()\n",
        "    lim_inferior = media - (2*desvio_padrao)\n",
        "    lim_superior = media + (2*desvio_padrao)\n",
        "    print(f\"Intervalo de confiança {lim_inferior} - {lim_superior}\")"
      ],
      "execution_count": 33,
      "outputs": []
    },
    {
      "cell_type": "code",
      "metadata": {
        "id": "kFSWZob59EQn",
        "outputId": "73fb104c-bee0-4407-f463-154f453087d3",
        "colab": {
          "base_uri": "https://localhost:8080/",
          "height": 34
        }
      },
      "source": [
        "from sklearn.model_selection import cross_validate\n",
        "from sklearn.model_selection import KFold\n",
        "import numpy as np\n",
        "\n",
        "SEED= 1232\n",
        "np.random.seed(SEED)\n",
        "\n",
        "\n",
        "\n",
        "partes = KFold(n_splits = 10, shuffle=True)\n",
        "modelo_arvore = DecisionTreeRegressor(max_depth=3)\n",
        "resultados = cross_validate(modelo_arvore, x, y, cv= partes, scoring=\"neg_mean_squared_error\")\n",
        "calcula_mse(resultados)"
      ],
      "execution_count": 35,
      "outputs": [
        {
          "output_type": "stream",
          "text": [
            "Intervalo de confiança 5858.74184239276 - 6250.793292491381\n"
          ],
          "name": "stdout"
        }
      ]
    },
    {
      "cell_type": "code",
      "metadata": {
        "id": "myZNL9dv9O7B",
        "outputId": "5764d552-1cb6-4bc7-dee5-0898fe637375",
        "colab": {
          "base_uri": "https://localhost:8080/",
          "height": 34
        }
      },
      "source": [
        "def regressor_arvore(nivel):\n",
        "    SEED= 1232\n",
        "    np.random.seed(SEED)\n",
        "    partes = KFold(n_splits = 10, shuffle=True)\n",
        "    modelo_arvore = DecisionTreeRegressor(max_depth=nivel)\n",
        "    resultados = cross_validate(modelo_arvore, x, y, cv= partes, scoring=\"neg_mean_squared_error\", return_train_score=True)\n",
        "    print(f\"Treino = {(resultados['train_score']*-1).mean()}|Teste = {(resultados['test_score']*-1).mean()}\")\n",
        "\n",
        "regressor_arvore(4)"
      ],
      "execution_count": 36,
      "outputs": [
        {
          "output_type": "stream",
          "text": [
            "Treino = 5760.834451245899|Teste = 5815.707286597402\n"
          ],
          "name": "stdout"
        }
      ]
    },
    {
      "cell_type": "code",
      "metadata": {
        "id": "4ZOx1E5P9SnU",
        "outputId": "245fc7f4-cc82-496f-e835-0c8aed1d1074",
        "colab": {
          "base_uri": "https://localhost:8080/",
          "height": 357
        }
      },
      "source": [
        "for i in range(1,21):\n",
        "    regressor_arvore(i)"
      ],
      "execution_count": 37,
      "outputs": [
        {
          "output_type": "stream",
          "text": [
            "Treino = 7844.952652412207|Teste = 7857.871770206351\n",
            "Treino = 6527.783475408351|Teste = 6556.886287657656\n",
            "Treino = 6021.275229419074|Teste = 6054.767567442071\n",
            "Treino = 5760.834451245899|Teste = 5815.707286597402\n",
            "Treino = 5598.158955426787|Teste = 5675.196789060743\n",
            "Treino = 5469.677369145868|Teste = 5593.304363812442\n",
            "Treino = 5369.458309852723|Teste = 5542.730565094406\n",
            "Treino = 5276.16965707928|Teste = 5543.4809609730655\n",
            "Treino = 5166.713159932668|Teste = 5608.854872163518\n",
            "Treino = 5022.598049115693|Teste = 5763.155248722027\n",
            "Treino = 4833.560706021637|Teste = 5960.052989742388\n",
            "Treino = 4598.125022484774|Teste = 6216.545956232321\n",
            "Treino = 4316.3791662866815|Teste = 6519.376217056128\n",
            "Treino = 4000.6209880837496|Teste = 6849.577463417832\n",
            "Treino = 3655.8197526274853|Teste = 7220.55475782693\n",
            "Treino = 3295.832684540846|Teste = 7634.732578617249\n",
            "Treino = 2931.7212612043877|Teste = 8068.112294631386\n",
            "Treino = 2575.59534021339|Teste = 8449.25417707589\n",
            "Treino = 2233.574203221172|Teste = 8830.854912793633\n",
            "Treino = 1913.8727239705706|Teste = 9133.407776329444\n"
          ],
          "name": "stdout"
        }
      ]
    },
    {
      "cell_type": "markdown",
      "metadata": {
        "id": "pVm6HBwQ-Dhu"
      },
      "source": [
        "Desafio 01: Pesquisar sobre intervalo de confiança (Quem quiser discutir no Discord, estaremos lá)\n",
        "\n",
        "Desafio 02: Testar com outros parâmetros da árvore de decisão\n",
        "\n",
        "Desafio 03: Procurar outras formas de realizar os ajustes de parâmetros com o Sklearn\n",
        "\n",
        "Desafio 04: Pesquisar o que é o problema de underfit.\n",
        "\n",
        "Desafio 05: Plotar um gráfico com test_score e train_test."
      ]
    }
  ]
}