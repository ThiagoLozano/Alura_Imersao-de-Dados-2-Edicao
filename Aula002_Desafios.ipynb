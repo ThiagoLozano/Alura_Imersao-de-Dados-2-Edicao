{
  "nbformat": 4,
  "nbformat_minor": 0,
  "metadata": {
    "colab": {
      "name": "Aula002_Desafios.ipynb",
      "provenance": [],
      "authorship_tag": "ABX9TyMy7+MbE1/WEkm4/IAHRwq/",
      "include_colab_link": true
    },
    "kernelspec": {
      "name": "python3",
      "display_name": "Python 3"
    }
  },
  "cells": [
    {
      "cell_type": "markdown",
      "metadata": {
        "id": "view-in-github",
        "colab_type": "text"
      },
      "source": [
        "<a href=\"https://colab.research.google.com/github/ThiagoLozano/Alura_Imersao-de-Dados-2-Edicao/blob/main/Aula002_Desafios.ipynb\" target=\"_parent\"><img src=\"https://colab.research.google.com/assets/colab-badge.svg\" alt=\"Open In Colab\"/></a>"
      ]
    },
    {
      "cell_type": "code",
      "metadata": {
        "id": "mWvma0K5OksK"
      },
      "source": [
        "# Importa a Biblioteca Pandas e Matplotlib.\n",
        "import pandas as pd\n",
        "import matplotlib.pyplot as plt\n",
        "\n",
        "# Pega a fonte dos dados.\n",
        "fonte = \"https://github.com/alura-cursos/imersao-dados-2-2020/blob/master/MICRODADOS_ENEM_2019_SAMPLE_43278.csv?raw=true\"\n",
        "\n",
        "# Cria o objeto 'dados'.\n",
        "dados = pd.read_csv(fonte)"
      ],
      "execution_count": 1,
      "outputs": []
    }
  ]
}